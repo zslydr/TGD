{
 "cells": [
  {
   "cell_type": "code",
   "execution_count": 1,
   "metadata": {},
   "outputs": [
    {
     "name": "stderr",
     "output_type": "stream",
     "text": [
      "  % Total    % Received % Xferd  Average Speed   Time    Time     Time  Current\n",
      "                                 Dload  Upload   Total   Spent    Left  Speed\n",
      "100   388    0   388    0     0    799      0 --:--:-- --:--:-- --:--:--   810\n",
      "100 21200  100 21200    0     0  28487      0 --:--:-- --:--:-- --:--:-- 28487\n"
     ]
    }
   ],
   "source": [
    "using JSON\n",
    "using DataFrames\n",
    "\n",
    "url = \"https://drive.google.com/uc?export=download&id=1iZLQjkg81oU8_R_lJoKAnUraegXdWEos\"\n",
    "\n",
    "json_path = download(url)\n",
    "\n",
    "file = open(json_path)\n",
    "txt = read(file, String)\n",
    "dict = JSON.parse(txt,dicttype=DataStructures.OrderedDict)\n",
    "close(file)"
   ]
  },
  {
   "cell_type": "code",
   "execution_count": 2,
   "metadata": {},
   "outputs": [
    {
     "data": {
      "text/plain": [
       "\"{\\\"periodes\\\":[{\\\"id_periode\\\":1,\\\"nom_periode\\\":\\\"periode-1\\\"},{\\\"id_periode\\\":2,\\\"nom_periode\\\":\\\"periode-2\\\"},{\\\"id_periode\\\":3,\\\"nom_periode\\\":\\\"periode-3\\\"},{\\\"id_periode\\\":4,\\\"nom_periode\\\":\\\"periode-4\\\"},{\\\"id_periode\\\":5,\\\"nom_periode\\\":\\\"periode-5\\\"}],\\\"produits\\\":[{\\\"id_produit\\\":1,\\\"nom_produit\\\":\\\"produit-1\\\",\\\"equipement_sechoir_requis\\\":false,\\\"equipement_calibreur_requis\\\":true,\\\"equipement_ns_requis\\\":true,\\\"equipement_epurateur_requis\\\":false,\\\"poids_specifique\\\":0.7548},{\\\"id_produit\\\":2,\\\"nom_produit\\\":\\\"produit-2\\\",\\\"equipement_sechoir_requis\\\":false,\\\"equipement_calibreur_requis\\\":false,\\\"equipement_ns_requis\\\":true,\\\"equipement_epurateur_requis\\\":false,\\\"poids_specifique\\\":0.6336},{\\\"id_produit\\\":3,\\\"nom_produit\\\":\\\"produit-3\\\",\\\"equipement_sechoir_requis\\\":true,\\\"equipement_calibreur_requis\\\":true,\\\"equipement_ns_requis\\\":true,\\\"equipement_epurateur_requis\\\":false,\\\"poids_specifique\\\":0.7879}],\\\"producteur\\\":[{\\\"id_producteur\\\":1,\\\"latitude\\\":48,\\\"longitude\\\":2}],\\\"silos\\\":[{\\\"id_silo\\\":1,\\\"nom_silo\\\":\\\"silo-1\\\",\\\"latitude\\\":48.4977,\\\"longitude\\\":2.9347},{\\\"id_silo\\\":2,\\\"nom_silo\\\":\\\"silo-2\\\",\\\"latitude\\\":48.7176,\\\"longitude\\\":2.2121},{\\\"id_silo\\\":3,\\\"nom_silo\\\":\\\"silo-3\\\",\\\"latitude\\\":48.9919,\\\"longitude\\\":2.6517},{\\\"id_silo\\\":4,\\\"nom_silo\\\":\\\"silo-4\\\",\\\"latitude\\\":48.38,\\\"longitude\\\":2.1256},{\\\"id_silo\\\":5,\\\"nom_silo\\\":\\\"silo-5\\\",\\\"latitude\\\":48.7774,\\\"longitude\\\":2.2672}],\\\"cellules\\\":[{\\\"id_cellule\\\":1,\\\"nom_cellule\\\":\\\"cellule-1\\\",\\\"type\\\":\\\"collecte\\\",\\\"capacite\\\":2386.1141,\\\"equipement_sechoir\\\":true,\\\"equipement_calibreur\\\":false,\\\"equipement_ns\\\":true,\\\"equipement_epurateur\\\":true,\\\"stock_initial\\\":137.5902,\\\"id_produit_initial\\\":3,\\\"id_silo\\\":1},{\\\"id_cellule\\\":2,\\\"nom_cellule\\\":\\\"cellule-2\\\",\\\"type\\\":\\\"collecte\\\",\\\"capacite\\\":2013.3903,\\\"equipement_sechoir\\\":true,\\\"equipement_calibreur\\\":true,\\\"equipement_ns\\\":true,\\\"equipement_epurateur\\\":false,\\\"stock_initial\\\":155.3351,\\\"id_produit_initial\\\":3,\\\"id_silo\\\":2},{\\\"id_cellule\\\":3,\\\"nom_cellule\\\":\\\"cellule-3\\\",\\\"type\\\":\\\"collecte\\\",\\\"capacite\\\":2382.388,\\\"equipement_sechoir\\\":false,\\\"equipement_calibreur\\\":false,\\\"equipement_ns\\\":true,\\\"equipement_epurateur\\\":false,\\\"stock_initial\\\":129.5294,\\\"id_produit_initial\\\":3,\\\"id_silo\\\":1},{\\\"id_cellule\\\":4,\\\"nom_cellule\\\":\\\"cellule-4\\\",\\\"type\\\":\\\"collecte\\\",\\\"capacite\\\":2869.6908,\\\"equipement_sechoir\\\":true,\\\"equipement_calibreur\\\":false,\\\"equipement_ns\\\":true,\\\"equipement_epurateur\\\":false,\\\"stock_initial\\\":410.9228,\\\"id_produit_initial\\\":1,\\\"id_silo\\\":2},{\\\"id_cellule\\\":5,\\\"nom_cellule\\\":\\\"cellule-5\\\",\\\"type\\\":\\\"collecte\\\",\\\"capacite\\\":2340.349,\\\"equipement_sechoir\\\":true,\\\"equipement_calibreur\\\":true,\\\"equipement_ns\\\":true,\\\"equipement_epurateur\\\":true,\\\"stock_initial\\\":541.1381,\\\"id_produit_initial\\\":3,\\\"id_silo\\\":2},{\\\"id_cellule\\\":6,\\\"nom_cellule\\\":\\\"cellule-6\\\",\\\"type\\\":\\\"collecte\\\",\\\"capacite\\\":2482.0801,\\\"equipement_sechoir\\\":false,\\\"equipement_calibreur\\\":true,\\\"equipement_ns\\\":false,\\\"equipement_epurateur\\\":false,\\\"stock_initial\\\":20.691,\\\"id_produit_initial\\\":3,\\\"id_silo\\\":1},{\\\"id_cellule\\\":7,\\\"nom_cellule\\\":\\\"cellule-7\\\",\\\"type\\\":\\\"collecte\\\",\\\"capacite\\\":2599.5658,\\\"equipement_sechoir\\\":true,\\\"equipement_calibreur\\\":false,\\\"equipement_ns\\\":false,\\\"equipement_epurateur\\\":false,\\\"stock_initial\\\":411.2337,\\\"id_produit_initial\\\":1,\\\"id_silo\\\":4},{\\\"id_cellule\\\":8,\\\"nom_cellule\\\":\\\"cellule-8\\\",\\\"type\\\":\\\"collecte\\\",\\\"capacite\\\":2493.5413,\\\"equipement_sechoir\\\":false,\\\"equipement_calibreur\\\":false,\\\"equipement_ns\\\":true,\\\"equipement_epurateur\\\":false,\\\"stock_initial\\\":658.5336,\\\"id_produit_initial\\\":2,\\\"id_silo\\\":5},{\\\"id_cellule\\\":9,\\\"nom_cellule\\\":\\\"cellule-9\\\",\\\"type\\\":\\\"collecte\\\",\\\"capacite\\\":2186.2176,\\\"equipement_sechoir\\\":false,\\\"equipement_calibreur\\\":true,\\\"equipement_ns\\\":true,\\\"equipement_epurateur\\\":true,\\\"stock_initial\\\":244.6793,\\\"id_produit_initial\\\":3,\\\"id_silo\\\":4},{\\\"id_cellule\\\":10,\\\"nom_cellule\\\":\\\"cellule-10\\\",\\\"type\\\":\\\"collecte\\\",\\\"capacite\\\":2827.3733,\\\"equipement_sechoir\\\":true,\\\"equipement_calibreur\\\":true,\\\"equipement_ns\\\":true,\\\"equipement_epurateur\\\":false,\\\"stock_initial\\\":40.6795,\\\"id_produit_initial\\\":1,\\\"id_silo\\\":2},{\\\"id_cellule\\\":11,\\\"nom_cellule\\\":\\\"cellule-11\\\",\\\"type\\\":\\\"collecte\\\",\\\"capacite\\\":2668.4667,\\\"equipement_sechoir\\\":false,\\\"equipement_calibreur\\\":true,\\\"equipement_ns\\\":false,\\\"equipement_epurateur\\\":true,\\\"stock_initial\\\":110.9775,\\\"id_produit_initial\\\":2,\\\"id_silo\\\":4},{\\\"id_cellule\\\":12,\\\"nom_cellule\\\":\\\"cellule-12\\\",\\\"type\\\":\\\"collecte\\\",\\\"capacite\\\":2794.2399,\\\"equipement_sechoir\\\":true,\\\"equipement_calibreur\\\":true,\\\"equipement_ns\\\":true,\\\"equipement_epurateur\\\":true,\\\"stock_initial\\\":269.4978,\\\"id_produit_initial\\\":2,\\\"id_silo\\\":3},{\\\"id_cellule\\\":13,\\\"nom_cellule\\\":\\\"cellule-13\\\",\\\"type\\\":\\\"collecte\\\",\\\"capacite\\\":2107.9436,\\\"equipement_sechoir\\\":false,\\\"equipement_calibreur\\\":true,\\\"equipement_ns\\\":true,\\\"equipement_epurateur\\\":true,\\\"stock_initial\\\":97.9129,\\\"id_produit_initial\\\":1,\\\"id_silo\\\":2},{\\\"id_cellule\\\":14,\\\"nom_cellule\\\":\\\"cellule-14\\\",\\\"type\\\":\\\"collecte\\\",\\\"capacite\\\":2723.7109,\\\"equipement_sechoir\\\":false,\\\"equipement_calibreur\\\":true,\\\"equipement_ns\\\":true,\\\"equipement_epurateur\\\":false,\\\"stock_initial\\\":108.0454,\\\"id_produit_initial\\\":2,\\\"id_silo\\\":5},{\\\"id_cellule\\\":15,\\\"nom_cellule\\\":\\\"cellule-15\\\",\\\"type\\\":\\\"collecte\\\",\\\"capacite\\\":2411.2744,\\\"equipement_sechoir\\\":false,\\\"equipement_calibreur\\\":true,\\\"equipement_ns\\\":true,\\\"equipement_epurateur\\\":false,\\\"stock_initial\\\":160.0888,\\\"id_produit_initial\\\":3,\\\"id_silo\\\":4},{\\\"id_cellule\\\":16,\\\"nom_cellule\\\":\\\"cellule-16\\\",\\\"type\\\":\\\"collecte\\\",\\\"capacite\\\":2820.9463,\\\"equipement_sechoir\\\":false,\\\"equipement_calibreur\\\":true,\\\"equipement_ns\\\":true,\\\"equipement_epurateur\\\":false,\\\"stock_initial\\\":191.5824,\\\"id_produit_initial\\\":3,\\\"id_silo\\\":2},{\\\"id_cellule\\\":17,\\\"nom_cellule\\\":\\\"cellule-17\\\",\\\"type\\\":\\\"collecte\\\",\\\"capacite\\\":2647.0602,\\\"equipement_sechoir\\\":false,\\\"equipement_calibreur\\\":true,\\\"equipement_ns\\\":false,\\\"equipement_epurateur\\\":true,\\\"stock_initial\\\":104.3602,\\\"id_produit_initial\\\":1,\\\"id_silo\\\":4},{\\\"id_cellule\\\":18,\\\"nom_cellule\\\":\\\"cellule-18\\\",\\\"type\\\":\\\"collecte\\\",\\\"capacite\\\":2782.9328,\\\"equipement_sechoir\\\":true,\\\"equipement_calibreur\\\":false,\\\"equipement_ns\\\":false,\\\"equipement_epurateur\\\":true,\\\"stock_initial\\\":819.4875,\\\"id_produit_initial\\\":2,\\\"id_silo\\\":2},{\\\"id_cellule\\\":19,\\\"nom_cellule\\\":\\\"cellule-19\\\",\\\"type\\\":\\\"collecte\\\",\\\"capacite\\\":2553.0363,\\\"equipement_sechoir\\\":true,\\\"equipement_calibreur\\\":false,\\\"equipement_ns\\\":true,\\\"equipement_epurateur\\\":false,\\\"stock_initial\\\":250.4634,\\\"id_produit_initial\\\":2,\\\"id_silo\\\":3},{\\\"id_cellule\\\":20,\\\"nom_cellule\\\":\\\"cellule-20\\\",\\\"type\\\":\\\"collecte\\\",\\\"capacite\\\":2529.7196,\\\"equipement_sechoir\\\":true,\\\"equipement_calibreur\\\":true,\\\"equipement_ns\\\":false,\\\"equipement_epurateur\\\":false,\\\"stock_initial\\\":384.7244,\\\"id_produit_initial\\\":3,\\\"id_silo\\\":5},{\\\"id_cellule\\\":21,\\\"nom_cellule\\\":\\\"cellule-21\\\",\\\"type\\\":\\\"collecte\\\",\\\"capacite\\\":2789.3562,\\\"equipement_sechoir\\\":true,\\\"equipement_calibreur\\\":false,\\\"equipement_ns\\\":true,\\\"equipement_epurateur\\\":false,\\\"stock_initial\\\":570.2358,\\\"id_produit_initial\\\":1,\\\"id_silo\\\":5},{\\\"id_cellule\\\":22,\\\"nom_cellule\\\":\\\"cellule-22\\\",\\\"type\\\":\\\"collecte\\\",\\\"capacite\\\":2023.3312,\\\"equipement_sechoir\\\":false,\\\"equipement_calibreur\\\":false,\\\"equipement_ns\\\":false,\\\"equipement_epurateur\\\":false,\\\"stock_initial\\\":60.1956,\\\"id_produit_initial\\\":2,\\\"id_silo\\\":1},{\\\"id_cellule\\\":23,\\\"nom_cellule\\\":\\\"cellule-23\\\",\\\"type\\\":\\\"collecte\\\",\\\"capacite\\\":2477.2301,\\\"equipement_sechoir\\\":false,\\\"equipement_calibreur\\\":true,\\\"equipement_ns\\\":true,\\\"equipement_epurateur\\\":false,\\\"stock_initial\\\":88.3647,\\\"id_produit_initial\\\":1,\\\"id_silo\\\":5},{\\\"id_cellule\\\":24,\\\"nom_cellule\\\":\\\"cellule-24\\\",\\\"type\\\":\\\"collecte\\\",\\\"capacite\\\":2732.3137,\\\"equipement_sechoir\\\":true,\\\"equipement_calibreur\\\":false,\\\"equipement_ns\\\":false,\\\"equipement_epurateur\\\":false,\\\"stock_initial\\\":41.3451,\\\"id_produit_initial\\\":2,\\\"id_silo\\\":4},{\\\"id_cellule\\\":25,\\\"nom_cellule\\\":\\\"cellule-25\\\",\\\"type\\\":\\\"collecte\\\",\\\"capacite\\\":2692.7316,\\\"equipement_sechoir\\\":true,\\\"equipement_calibreur\\\":true,\\\"equipement_ns\\\":true,\\\"equipement_epurateur\\\":true,\\\"stock_initial\\\":750.6694,\\\"id_produit_initial\\\":3,\\\"id_silo\\\":3},{\\\"id_cellule\\\":26,\\\"nom_cellule\\\":\\\"cellule-26\\\",\\\"type\\\":\\\"collecte\\\",\\\"capacite\\\":2477.6196,\\\"equipement_sechoir\\\":true,\\\"equipement_calibreur\\\":true,\\\"equipement_ns\\\":false,\\\"equipement_epurateur\\\":true,\\\"stock_initial\\\":500.7608,\\\"id_produit_initial\\\":2,\\\"id_silo\\\":3},{\\\"id_cellule\\\":27,\\\"nom_cellule\\\":\\\"cellule-27\\\",\\\"type\\\":\\\"collecte\\\",\\\"capacite\\\":2861.2095,\\\"equipement_sechoir\\\":false,\\\"equipement_calibreur\\\":true,\\\"equipement_ns\\\":false,\\\"equipement_epurateur\\\":true,\\\"stock_initial\\\":81.4225,\\\"id_produit_initial\\\":1,\\\"id_silo\\\":4},{\\\"id_cellule\\\":28,\\\"nom_cellule\\\":\\\"cellule-28\\\",\\\"type\\\":\\\"collecte\\\",\\\"capacite\\\":2438.0971,\\\"equipement_sechoir\\\":false,\\\"equipement_calibreur\\\":false,\\\"equipement_ns\\\":true,\\\"equipement_epurateur\\\":false,\\\"stock_initial\\\":360.2992,\\\"id_produit_initial\\\":3,\\\"id_silo\\\":5},{\\\"id_cellule\\\":29,\\\"nom_cellule\\\":\\\"cellule-29\\\",\\\"type\\\":\\\"collecte\\\",\\\"capacite\\\":2244.7973,\\\"equipement_sechoir\\\":true,\\\"equipement_calibreur\\\":false,\\\"equipement_ns\\\":false,\\\"equipement_epurateur\\\":true,\\\"stock_initial\\\":310.8271,\\\"id_produit_initial\\\":2,\\\"id_silo\\\":1},{\\\"id_cellule\\\":30,\\\"nom_cellule\\\":\\\"cellule-30\\\",\\\"type\\\":\\\"collecte\\\",\\\"capacite\\\":2070.679,\\\"equipement_sechoir\\\":true,\\\"equipement_calibreur\\\":true,\\\"equipement_ns\\\":false,\\\"equipement_epurateur\\\":false,\\\"stock_initial\\\":233.0859,\\\"id_produit_initial\\\":3,\\\"id_silo\\\":1},{\\\"id_cellule\\\":31,\\\"nom_cellule\\\":\\\"cellule-31\\\",\\\"type\\\":\\\"collecte\\\",\\\"capacite\\\":2099.4662,\\\"equipement_sechoir\\\":false,\\\"equipement_calibreur\\\":false,\\\"equipement_ns\\\":true,\\\"equipement_epurateur\\\":false,\\\"stock_initial\\\":624.2338,\\\"id_produit_initial\\\":1,\\\"id_silo\\\":4},{\\\"id_cellule\\\":32,\\\"nom_cellule\\\":\\\"cellule-32\\\",\\\"type\\\":\\\"collecte\\\",\\\"capacite\\\":2316.2717,\\\"equipement_sechoir\\\":false,\\\"equipement_calibreur\\\":true,\\\"equipement_ns\\\":true,\\\"equipement_epurateur\\\":false,\\\"stock_initial\\\":122.5429,\\\"id_produit_initial\\\":3,\\\"id_silo\\\":3},{\\\"id_cellule\\\":33,\\\"nom_cellule\\\":\\\"cellule-33\\\",\\\"type\\\":\\\"collecte\\\",\\\"capacite\\\":2518.6343,\\\"equipement_sechoir\\\":false,\\\"equipement_calibreur\\\":false,\\\"equipement_ns\\\":false,\\\"equipement_epurateur\\\":false,\\\"stock_initial\\\":614.6237,\\\"id_produit_initial\\\":1,\\\"id_silo\\\":5},{\\\"id_cellule\\\":34,\\\"nom_cellule\\\":\\\"cellule-34\\\",\\\"type\\\":\\\"collecte\\\",\\\"capacite\\\":2662.0051,\\\"equipement_sechoir\\\":true,\\\"equipement_calibreur\\\":false,\\\"equipement_ns\\\":false,\\\"equipement_epurateur\\\":false,\\\"stock_initial\\\":54.6616,\\\"id_produit_initial\\\":3,\\\"id_silo\\\":5},{\\\"id_cellule\\\":35,\\\"nom_cellule\\\":\\\"cellule-35\\\",\\\"type\\\":\\\"collecte\\\",\\\"capacite\\\":2406.8302,\\\"equipement_sechoir\\\":true,\\\"equipement_calibreur\\\":false,\\\"equipement_ns\\\":true,\\\"equipement_epurateur\\\":true,\\\"stock_initial\\\":289.1444,\\\"id_produit_initial\\\":2,\\\"id_silo\\\":1},{\\\"id_cellule\\\":36,\\\"nom_cellule\\\":\\\"cellule-36\\\",\\\"type\\\":\\\"collecte\\\",\\\"capacite\\\":2912.8759,\\\"equipement_sechoir\\\":true,\\\"equipement_calibreur\\\":false,\\\"equipement_ns\\\":true,\\\"equipement_epurateur\\\":true,\\\"stock_initial\\\":123.3408,\\\"id_produit_initial\\\":1,\\\"id_silo\\\":3},{\\\"id_cellule\\\":37,\\\"nom_cellule\\\":\\\"cellule-37\\\",\\\"type\\\":\\\"collecte\\\",\\\"capacite\\\":2293.6034,\\\"equipement_sechoir\\\":true,\\\"equipement_calibreur\\\":true,\\\"equipement_ns\\\":false,\\\"equipement_epurateur\\\":false,\\\"stock_initial\\\":133.0128,\\\"id_produit_initial\\\":1,\\\"id_silo\\\":4},{\\\"id_cellule\\\":38,\\\"nom_cellule\\\":\\\"cellule-38\\\",\\\"type\\\":\\\"collecte\\\",\\\"capacite\\\":2459.0657,\\\"equipement_sechoir\\\":false,\\\"equipement_calibreur\\\":false,\\\"equipement_ns\\\":true,\\\"equipement_epurateur\\\":false,\\\"stock_initial\\\":620.6818,\\\"id_produit_initial\\\":3,\\\"id_silo\\\":4},{\\\"id_cellule\\\":39,\\\"nom_cellule\\\":\\\"cellule-39\\\",\\\"type\\\":\\\"collecte\\\",\\\"capacite\\\":2332.3947,\\\"equipement_sechoir\\\":false,\\\"equipement_calibreur\\\":true,\\\"equipement_ns\\\":true,\\\"equipement_epurateur\\\":true,\\\"stock_initial\\\":503.7371,\\\"id_produit_initial\\\":1,\\\"id_silo\\\":5},{\\\"id_cellule\\\":40,\\\"nom_cellule\\\":\\\"cellule-40\\\",\\\"type\\\":\\\"collecte\\\",\\\"capacite\\\":2650.8705,\\\"equipement_sechoir\\\":false,\\\"equipement_calibreur\\\":true,\\\"equipement_ns\\\":true,\\\"equipement_epurateur\\\":true,\\\"stock_initial\\\":212.5034,\\\"id_produit_initial\\\":2,\\\"id_silo\\\":2},{\\\"id_cellule\\\":41,\\\"nom_cellule\\\":\\\"cellule-41\\\",\\\"type\\\":\\\"stockage\\\",\\\"capacite\\\":62900.839,\\\"equipement_sechoir\\\":false,\\\"equipement_calibreur\\\":false,\\\"equipement_ns\\\":false,\\\"equipement_epurateur\\\":false,\\\"stock_initial\\\":9340.8056,\\\"id_produit_initial\\\":3,\\\"id_silo\\\":1},{\\\"id_cellule\\\":42,\\\"nom_cellule\\\":\\\"cellule-42\\\",\\\"type\\\":\\\"stockage\\\",\\\"capacite\\\":73927.2624,\\\"equipement_sechoir\\\":true,\\\"equipement_calibreur\\\":false,\\\"equipement_ns\\\":true,\\\"equipement_epurateur\\\":false,\\\"stock_initial\\\":1843.3149,\\\"id_produit_initial\\\":1,\\\"id_silo\\\":5},{\\\"id_cellule\\\":43,\\\"nom_cellule\\\":\\\"cellule-43\\\",\\\"type\\\":\\\"stockage\\\",\\\"capacite\\\":88315.5335,\\\"equipement_sechoir\\\":false,\\\"equipement_calibreur\\\":false,\\\"equipement_ns\\\":true,\\\"equipement_epurateur\\\":true,\\\"stock_initial\\\":9376.0427,\\\"id_produit_initial\\\":3,\\\"id_silo\\\":1},{\\\"id_cellule\\\":44,\\\"nom_cellule\\\":\\\"cellule-44\\\",\\\"type\\\":\\\"stockage\\\",\\\"capacite\\\":54212.3457,\\\"equipement_sechoir\\\":false,\\\"equipement_calibreur\\\":true,\\\"equipement_ns\\\":true,\\\"equipement_epurateur\\\":true,\\\"stock_initial\\\":15762.9248,\\\"id_produit_initial\\\":3,\\\"id_silo\\\":2},{\\\"id_cellule\\\":45,\\\"nom_cellule\\\":\\\"cellule-45\\\",\\\"type\\\":\\\"stockage\\\",\\\"capacite\\\":93766.0665,\\\"equipement_sechoir\\\":true,\\\"equipement_calibreur\\\":false,\\\"equipement_ns\\\":false,\\\"equipement_epurateur\\\":false,\\\"stock_initial\\\":17573.0977,\\\"id_produit_initial\\\":2,\\\"id_silo\\\":2},{\\\"id_cellule\\\":46,\\\"nom_cellule\\\":\\\"cellule-46\\\",\\\"type\\\":\\\"stockage\\\",\\\"capacite\\\":66953.6469,\\\"equipement_sechoir\\\":true,\\\"equipement_calibreur\\\":true,\\\"equipement_ns\\\":false,\\\"equipement_epurateur\\\":false,\\\"stock_initial\\\":13349.5847,\\\"id_produit_initial\\\":2,\\\"id_silo\\\":5},{\\\"id_cellule\\\":47,\\\"nom_cellule\\\":\\\"cellule-47\\\",\\\"type\\\":\\\"stockage\\\",\\\"capacite\\\":91972.0175,\\\"equipement_sechoir\\\":false,\\\"equipement_calibreur\\\":true,\\\"equipement_ns\\\":false,\\\"equipement_epurateur\\\":false,\\\"stock_initial\\\":8622.0912,\\\"id_produit_initial\\\":2,\\\"id_silo\\\":4},{\\\"id_cellule\\\":48,\\\"nom_cellule\\\":\\\"cellule-48\\\",\\\"type\\\":\\\"stockage\\\",\\\"capacite\\\":67334.1745,\\\"equipement_sechoir\\\":false,\\\"equipement_calibreur\\\":true,\\\"equipement_ns\\\":false,\\\"equipement_epurateur\\\":false,\\\"stock_initial\\\":8195.0325,\\\"id_produit_initial\\\":3,\\\"id_silo\\\":3},{\\\"id_cellule\\\":49,\\\"nom_cellule\\\":\\\"cellule-49\\\",\\\"type\\\":\\\"stockage\\\",\\\"capacite\\\":66688.7465,\\\"equipement_sechoir\\\":false,\\\"equipement_calibreur\\\":false,\\\"equipement_ns\\\":true,\\\"equipement_epurateur\\\":false,\\\"stock_initial\\\":19928.1454,\\\"id_produit_initial\\\":1,\\\"id_silo\\\":5},{\\\"id_cellule\\\":50,\\\"nom_cellule\\\":\\\"cellule-50\\\",\\\"type\\\":\\\"stockage\\\",\\\"capacite\\\":73817.5623,\\\"equipement_sechoir\\\":true,\\\"equipement_calibreur\\\":false,\\\"equipement_ns\\\":true,\\\"equipement_epurateur\\\":false,\\\"stock_initial\\\":18936.0285,\\\"id_produit_initial\\\":1,\\\"id_silo\\\":3}],\\\"clients\\\":[{\\\"id_client\\\":1,\\\"nom_client\\\":\\\"client-1\\\",\\\"latitude\\\":48.4609,\\\"longitude\\\":2.8741},{\\\"id_client\\\":2,\\\"nom_client\\\":\\\"client-2\\\",\\\"latitude\\\":48.9551,\\\"longitude\\\":2.4671},{\\\"id_client\\\":3,\\\"nom_client\\\":\\\"client-3\\\",\\\"latitude\\\":48.7125,\\\"longitude\\\":2.0081},{\\\"id_client\\\":4,\\\"nom_client\\\":\\\"client-4\\\",\\\"latitude\\\":48.3971,\\\"longitude\\\":2.7278},{\\\"id_client\\\":5,\\\"nom_client\\\":\\\"client-5\\\",\\\"latitude\\\":48.1177,\\\"longitude\\\":2.7166},{\\\"id_client\\\":6,\\\"nom_client\\\":\\\"client-6\\\",\\\"latitude\\\":48.2401,\\\"longitude\\\":2.1874},{\\\"id_client\\\":7,\\\"nom_client\\\":\\\"client-7\\\",\\\"latitude\\\":48.8636,\\\"longitude\\\":2.6461},{\\\"id_client\\\":8,\\\"nom_client\\\":\\\"client-8\\\",\\\"latitude\\\":48.436,\\\"longitude\\\":2.542},{\\\"id_client\\\":9,\\\"nom_client\\\":\\\"client-9\\\",\\\"latitude\\\":48.4979,\\\"longitude\\\":2.3353},{\\\"id_client\\\":10,\\\"nom_client\\\":\\\"client-10\\\",\\\"latitude\\\":48.6919,\\\"longitude\\\":2.6379},{\\\"id_client\\\":11,\\\"nom_client\\\":\\\"client-11\\\",\\\"latitude\\\":48.7603,\\\"longitude\\\":2.8292},{\\\"id_client\\\":12,\\\"nom_client\\\":\\\"client-12\\\",\\\"latitude\\\":48.1554,\\\"longitude\\\":2.709},{\\\"id_client\\\":13,\\\"nom_client\\\":\\\"client-13\\\",\\\"latitude\\\":48.8495,\\\"longitude\\\":2.3486},{\\\"id_client\\\":14,\\\"nom_client\\\":\\\"client-14\\\",\\\"latitude\\\":48.9468,\\\"longitude\\\":2.1283},{\\\"id_client\\\":15,\\\"nom_client\\\":\\\"client-15\\\",\\\"latitude\\\":48.5884,\\\"longitude\\\":2.3881},{\\\"id_client\\\":16,\\\"nom_client\\\":\\\"client-16\\\",\\\"latitude\\\":48.5023,\\\"longitude\\\":2.9282},{\\\"id_client\\\":17,\\\"nom_client\\\":\\\"client-17\\\",\\\"latitude\\\":48.1898,\\\"longitude\\\":2.8044},{\\\"id_client\\\":18,\\\"nom_client\\\":\\\"client-18\\\",\\\"latitude\\\":48.0018,\\\"longitude\\\":2.7587},{\\\"id_client\\\":19,\\\"nom_client\\\":\\\"client-19\\\",\\\"latitude\\\":48.8776,\\\"longitude\\\":2.9572},{\\\"id_client\\\":20,\\\"nom_client\\\":\\\"client-20\\\",\\\"latitude\\\":48.1341,\\\"longitude\\\":2.9939},{\\\"id_client\\\":21,\\\"nom_client\\\":\\\"client-21\\\",\\\"latitude\\\":48.0227,\\\"longitude\\\":2.6064},{\\\"id_client\\\":22,\\\"nom_client\\\":\\\"client-22\\\",\\\"latitude\\\":48.9391,\\\"longitude\\\":2.0294},{\\\"id_client\\\":23,\\\"nom_client\\\":\\\"client-23\\\",\\\"latitude\\\":48.2929,\\\"longitude\\\":2.3364},{\\\"id_client\\\":24,\\\"nom_client\\\":\\\"client-24\\\",\\\"latitude\\\":48.1643,\\\"longitude\\\":2.2777},{\\\"id_client\\\":25,\\\"nom_client\\\":\\\"client-25\\\",\\\"latitude\\\":48.3991,\\\"longitude\\\":2.1172},{\\\"id_client\\\":26,\\\"nom_client\\\":\\\"client-26\\\",\\\"latitude\\\":48.4596,\\\"longitude\\\":2.0432},{\\\"id_client\\\":27,\\\"nom_client\\\":\\\"client-27\\\",\\\"latitude\\\":48.434,\\\"longitude\\\":2.3703},{\\\"id_client\\\":28,\\\"nom_client\\\":\\\"client-28\\\",\\\"latitude\\\":48.517,\\\"longitude\\\":2.3369},{\\\"id_client\\\":29,\\\"nom_client\\\":\\\"client-29\\\",\\\"latitude\\\":48.8462,\\\"longitude\\\":2.1737},{\\\"id_client\\\":30,\\\"nom_client\\\":\\\"client-30\\\",\\\"latitude\\\":48.0552,\\\"longitude\\\":2.6218},{\\\"id_client\\\":31,\\\"nom_client\\\":\\\"client-31\\\",\\\"latitude\\\":48.5542,\\\"longitude\\\":2.3978},{\\\"id_client\\\":32,\\\"nom_client\\\":\\\"client-32\\\",\\\"latitude\\\":48.6883,\\\"longitude\\\":2.9557},{\\\"id_client\\\":33,\\\"nom_client\\\":\\\"client-33\\\",\\\"latitude\\\":48.6581,\\\"longitude\\\":2.6533},{\\\"id_client\\\":34,\\\"nom_client\\\":\\\"client-34\\\",\\\"latitude\\\":48.6633,\\\"longitude\\\":2.3287},{\\\"id_client\\\":35,\\\"nom_client\\\":\\\"client-35\\\",\\\"latitude\\\":48.4722,\\\"longitude\\\":2.1971},{\\\"id_client\\\":36,\\\"nom_client\\\":\\\"client-36\\\",\\\"latitude\\\":48.9695,\\\"longitude\\\":2.1153},{\\\"id_client\\\":37,\\\"nom_client\\\":\\\"client-37\\\",\\\"latitude\\\":48.4022,\\\"longitude\\\":2.996},{\\\"id_client\\\":38,\\\"nom_client\\\":\\\"client-38\\\",\\\"latitude\\\":48.8496,\\\"longitude\\\":2.3793},{\\\"id_client\\\":39,\\\"nom_client\\\":\\\"client-39\\\",\\\"latitude\\\":48.7566,\\\"longitude\\\":2.562},{\\\"id_client\\\":40,\\\"nom_client\\\":\\\"client-40\\\",\\\"latitude\\\":48.5326,\\\"longitude\\\":2.7327}],\\\"previsions_apports\\\":[{\\\"id_apport\\\":1,\\\"id_periode\\\":2,\\\"id_produit\\\":1,\\\"quantite\\\":109.4046,\\\"id_silo\\\":4},{\\\"id_apport\\\":2,\\\"id_periode\\\":2,\\\"id_produit\\\":3,\\\"quantite\\\":104.9654,\\\"id_silo\\\":3},{\\\"id_apport\\\":3,\\\"id_periode\\\":3,\\\"id_produit\\\":2,\\\"quantite\\\":347.5895,\\\"id_silo\\\":5},{\\\"id_apport\\\":4,\\\"id_periode\\\":3,\\\"id_produit\\\":3,\\\"quantite\\\":182.9324,\\\"id_silo\\\":5},{\\\"id_apport\\\":5,\\\"id_periode\\\":5,\\\"id_produit\\\":3,\\\"quantite\\\":113.2828,\\\"id_silo\\\":2}],\\\"previsions_demandes\\\":[{\\\"id_demande\\\":1,\\\"id_periode\\\":2,\\\"id_client\\\":2,\\\"id_produit\\\":1,\\\"quantite\\\":109.4046,\\\"type_envoi\\\":\\\"depart\\\"},{\\\"id_demande\\\":2,\\\"id_periode\\\":2,\\\"id_client\\\":29,\\\"id_produit\\\":3,\\\"quantite\\\":104.9654,\\\"type_envoi\\\":\\\"rendu\\\"},{\\\"id_demande\\\":3,\\\"id_periode\\\":3,\\\"id_client\\\":6,\\\"id_produit\\\":2,\\\"quantite\\\":182.1162,\\\"type_envoi\\\":\\\"rendu\\\"},{\\\"id_demande\\\":4,\\\"id_periode\\\":3,\\\"id_client\\\":25,\\\"id_produit\\\":3,\\\"quantite\\\":182.9324,\\\"type_envoi\\\":\\\"rendu\\\"},{\\\"id_demande\\\":5,\\\"id_periode\\\":3,\\\"id_client\\\":29,\\\"id_produit\\\":2,\\\"quantite\\\":165.4733,\\\"type_envoi\\\":\\\"depart\\\"},{\\\"id_demande\\\":6,\\\"id_periode\\\":5,\\\"id_client\\\":12,\\\"id_produit\\\":3,\\\"quantite\\\":113.2828,\\\"type_envoi\\\":\\\"rendu\\\"}],\\\"tarifs_tonne_transfert\\\":[{\\\"id_silo_origin\\\":2,\\\"id_silo_destination\\\":1,\\\"cout_tonne\\\":6.4159},{\\\"id_silo_origin\\\":3,\\\"id_silo_destination\\\":1,\\\"cout_tonne\\\":17.4158},{\\\"id_silo_origin\\\":4,\\\"id_silo_destination\\\":1,\\\"cout_tonne\\\":12.8796},{\\\"id_silo_origin\\\":5,\\\"id_silo_destination\\\":1,\\\"cout_tonne\\\":15.0162},{\\\"id_silo_origin\\\":1,\\\"id_silo_destination\\\":2,\\\"cout_tonne\\\":11.1242},{\\\"id_silo_origin\\\":3,\\\"id_silo_destination\\\":2,\\\"cout_tonne\\\":17.6388},{\\\"id_silo_origin\\\":4,\\\"id_silo_destination\\\":2,\\\"cout_tonne\\\":16.0596},{\\\"id_silo_origin\\\":5,\\\"id_silo_destination\\\":2,\\\"cout_tonne\\\":10.2234},{\\\"id_silo_origin\\\":1,\\\"id_silo_destination\\\":3,\\\"cout_tonne\\\":19.2341},{\\\"id_silo_origin\\\":2,\\\"id_silo_destination\\\":3,\\\"cout_tonne\\\":14.7002},{\\\"id_silo_origin\\\":4,\\\"id_silo_destination\\\":3,\\\"cout_tonne\\\":5.5292},{\\\"id_silo_origin\\\":5,\\\"id_silo_destination\\\":3,\\\"cout_tonne\\\":13.9467},{\\\"id_silo_origin\\\":1,\\\"id_silo_destination\\\":4,\\\"cout_tonne\\\":11.2298},{\\\"id_silo_origin\\\":2,\\\"id_silo_destination\\\":4,\\\"cout_tonne\\\":6.1535},{\\\"id_silo_origin\\\":3,\\\"id_silo_destination\\\":4,\\\"cout_tonne\\\":12.9207},{\\\"id_silo_origin\\\":5,\\\"id_silo_destination\\\":4,\\\"cout_tonne\\\":19.435},{\\\"id_silo_origin\\\":1,\\\"id_silo_destination\\\":5,\\\"cout_tonne\\\":15.6311},{\\\"id_silo_origin\\\":2,\\\"id_silo_destination\\\":5,\\\"cout_tonne\\\":13.3021},{\\\"id_silo_origin\\\":3,\\\"id_silo_destination\\\":5,\\\"cout_tonne\\\":8.6443},{\\\"id_silo_origin\\\":4,\\\"id_silo_destination\\\":5,\\\"cout_tonne\\\":16.6706}],\\\"tarifs_tonne_livraison\\\":[{\\\"id_client\\\":2,\\\"id_silo\\\":1,\\\"cout_tonne\\\":14.7791},{\\\"id_client\\\":29,\\\"id_silo\\\":1,\\\"cout_tonne\\\":17.4537},{\\\"id_client\\\":6,\\\"id_silo\\\":1,\\\"cout_tonne\\\":14.7283},{\\\"id_client\\\":25,\\\"id_silo\\\":1,\\\"cout_tonne\\\":12.1975},{\\\"id_client\\\":12,\\\"id_silo\\\":1,\\\"cout_tonne\\\":12.426},{\\\"id_client\\\":2,\\\"id_silo\\\":2,\\\"cout_tonne\\\":10.6981},{\\\"id_client\\\":29,\\\"id_silo\\\":2,\\\"cout_tonne\\\":11.7573},{\\\"id_client\\\":6,\\\"id_silo\\\":2,\\\"cout_tonne\\\":17.2138},{\\\"id_client\\\":25,\\\"id_silo\\\":2,\\\"cout_tonne\\\":18.9317},{\\\"id_client\\\":12,\\\"id_silo\\\":2,\\\"cout_tonne\\\":7.2122},{\\\"id_client\\\":2,\\\"id_silo\\\":3,\\\"cout_tonne\\\":16.2473},{\\\"id_client\\\":29,\\\"id_silo\\\":3,\\\"cout_tonne\\\":19.6349},{\\\"id_client\\\":6,\\\"id_silo\\\":3,\\\"cout_tonne\\\":19.6219},{\\\"id_client\\\":25,\\\"id_silo\\\":3,\\\"cout_tonne\\\":10.2594},{\\\"id_client\\\":12,\\\"id_silo\\\":3,\\\"cout_tonne\\\":10.9092},{\\\"id_client\\\":2,\\\"id_silo\\\":4,\\\"cout_tonne\\\":19.2643},{\\\"id_client\\\":29,\\\"id_silo\\\":4,\\\"cout_tonne\\\":6.5997},{\\\"id_client\\\":6,\\\"id_silo\\\":4,\\\"cout_tonne\\\":19.0214},{\\\"id_client\\\":25,\\\"id_silo\\\":4,\\\"cout_tonne\\\":10.1924},{\\\"id_client\\\":12,\\\"id_silo\\\":4,\\\"cout_tonne\\\":12.9959},{\\\"id_client\\\":2,\\\"id_silo\\\":5,\\\"cout_tonne\\\":13.0819},{\\\"id_client\\\":29,\\\"id_silo\\\":5,\\\"cout_tonne\\\":15.7208},{\\\"id_client\\\":6,\\\"id_silo\\\":5,\\\"cout_tonne\\\":11.0869},{\\\"id_client\\\":25,\\\"id_silo\\\":5,\\\"cout_tonne\\\":7.2918},{\\\"id_client\\\":12,\\\"id_silo\\\":5,\\\"cout_tonne\\\":10.1035}],\\\"params\\\":{\\\"n_periodes\\\":[5],\\\"n_cellules_collecte\\\":[40],\\\"n_cellules_stock\\\":[10],\\\"n_silos\\\":[5],\\\"capacite_min_collecte\\\":[2000],\\\"capacite_max_collecte\\\":[3000],\\\"capacite_min_stock\\\":[50000],\\\"capacite_max_stock\\\":[100000],\\\"proba_equipement_sechoir\\\":[0.5],\\\"proba_equipement_calibreur\\\":[0.5],\\\"proba_equipement_ns\\\":[0.5],\\\"proba_equipement_epurateur\\\":[0.5],\\\"part_max_stock_initial\\\":[0.3],\\\"n_clients\\\":[40],\\\"latitude_base\\\":[48],\\\"longitude_base\\\":[2],\\\"n_produits\\\":[3],\\\"apports_alloues\\\":[true],\\\"demandes_quant_min\\\":[100],\\\"demandes_quant_max\\\":[200],\\\"proba_demande_periode_client_produit\\\":[0.01],\\\"proba_envoi_rendu\\\":[0.5],\\\"seed\\\":[1]}}\\n\""
      ]
     },
     "execution_count": 2,
     "metadata": {},
     "output_type": "execute_result"
    }
   ],
   "source": [
    "txt"
   ]
  },
  {
   "cell_type": "code",
   "execution_count": 3,
   "metadata": {},
   "outputs": [
    {
     "name": "stderr",
     "output_type": "stream",
     "text": [
      "\u001b[1m\u001b[33mWARNING: \u001b[39m\u001b[22m\u001b[33mpassing columns argument with non-AbstractVector entries is deprecated\u001b[39m\n",
      "Stacktrace:\n",
      " [1] \u001b[1mdepwarn\u001b[22m\u001b[22m\u001b[1m(\u001b[22m\u001b[22m::String, ::Symbol\u001b[1m)\u001b[22m\u001b[22m at \u001b[1m./deprecated.jl:70\u001b[22m\u001b[22m\n",
      " [2] \u001b[1m#DataFrame#57\u001b[22m\u001b[22m\u001b[1m(\u001b[22m\u001b[22m::Bool, ::Type{T} where T, ::Array{Any,1}, ::Array{Symbol,1}\u001b[1m)\u001b[22m\u001b[22m at \u001b[1m/Users/Raphael/.julia/v0.6/DataFrames/src/dataframe/dataframe.jl:154\u001b[22m\u001b[22m\n",
      " [3] \u001b[1mDataFrames.DataFrame\u001b[22m\u001b[22m\u001b[1m(\u001b[22m\u001b[22m::Array{Any,1}\u001b[1m)\u001b[22m\u001b[22m at \u001b[1m/Users/Raphael/.julia/v0.6/DataFrames/src/dataframe/dataframe.jl:152\u001b[22m\u001b[22m\n",
      " [4] \u001b[1mmacro expansion\u001b[22m\u001b[22m at \u001b[1m./In[3]:6\u001b[22m\u001b[22m [inlined]\n",
      " [5] \u001b[1manonymous\u001b[22m\u001b[22m at \u001b[1m./<missing>:?\u001b[22m\u001b[22m\n",
      " [6] \u001b[1minclude_string\u001b[22m\u001b[22m\u001b[1m(\u001b[22m\u001b[22m::String, ::String\u001b[1m)\u001b[22m\u001b[22m at \u001b[1m./loading.jl:522\u001b[22m\u001b[22m\n",
      " [7] \u001b[1mexecute_request\u001b[22m\u001b[22m\u001b[1m(\u001b[22m\u001b[22m::ZMQ.Socket, ::IJulia.Msg\u001b[1m)\u001b[22m\u001b[22m at \u001b[1m/Users/Raphael/.julia/v0.6/IJulia/src/execute_request.jl:158\u001b[22m\u001b[22m\n",
      " [8] \u001b[1m(::Compat.#inner#18{Array{Any,1},IJulia.#execute_request,Tuple{ZMQ.Socket,IJulia.Msg}})\u001b[22m\u001b[22m\u001b[1m(\u001b[22m\u001b[22m\u001b[1m)\u001b[22m\u001b[22m at \u001b[1m/Users/Raphael/.julia/v0.6/Compat/src/Compat.jl:378\u001b[22m\u001b[22m\n",
      " [9] \u001b[1meventloop\u001b[22m\u001b[22m\u001b[1m(\u001b[22m\u001b[22m::ZMQ.Socket\u001b[1m)\u001b[22m\u001b[22m at \u001b[1m/Users/Raphael/.julia/v0.6/IJulia/src/eventloop.jl:8\u001b[22m\u001b[22m\n",
      " [10] \u001b[1m(::IJulia.##14#17)\u001b[22m\u001b[22m\u001b[1m(\u001b[22m\u001b[22m\u001b[1m)\u001b[22m\u001b[22m at \u001b[1m./task.jl:335\u001b[22m\u001b[22m\n",
      "while loading In[3], in expression starting on line 3\n",
      "\u001b[1m\u001b[33mWARNING: \u001b[39m\u001b[22m\u001b[33mpassing columns argument with non-AbstractVector entries is deprecated\u001b[39m\n",
      "Stacktrace:\n",
      " [1] \u001b[1mdepwarn\u001b[22m\u001b[22m\u001b[1m(\u001b[22m\u001b[22m::String, ::Symbol\u001b[1m)\u001b[22m\u001b[22m at \u001b[1m./deprecated.jl:70\u001b[22m\u001b[22m\n",
      " [2] \u001b[1m#DataFrame#57\u001b[22m\u001b[22m\u001b[1m(\u001b[22m\u001b[22m::Bool, ::Type{T} where T, ::Array{Any,1}, ::Array{Symbol,1}\u001b[1m)\u001b[22m\u001b[22m at \u001b[1m/Users/Raphael/.julia/v0.6/DataFrames/src/dataframe/dataframe.jl:154\u001b[22m\u001b[22m\n",
      " [3] \u001b[1mDataFrames.DataFrame\u001b[22m\u001b[22m\u001b[1m(\u001b[22m\u001b[22m::Array{Any,1}\u001b[1m)\u001b[22m\u001b[22m at \u001b[1m/Users/Raphael/.julia/v0.6/DataFrames/src/dataframe/dataframe.jl:152\u001b[22m\u001b[22m\n",
      " [4] \u001b[1mmacro expansion\u001b[22m\u001b[22m at \u001b[1m./In[3]:8\u001b[22m\u001b[22m [inlined]\n",
      " [5] \u001b[1manonymous\u001b[22m\u001b[22m at \u001b[1m./<missing>:?\u001b[22m\u001b[22m\n",
      " [6] \u001b[1minclude_string\u001b[22m\u001b[22m\u001b[1m(\u001b[22m\u001b[22m::String, ::String\u001b[1m)\u001b[22m\u001b[22m at \u001b[1m./loading.jl:522\u001b[22m\u001b[22m\n",
      " [7] \u001b[1mexecute_request\u001b[22m\u001b[22m\u001b[1m(\u001b[22m\u001b[22m::ZMQ.Socket, ::IJulia.Msg\u001b[1m)\u001b[22m\u001b[22m at \u001b[1m/Users/Raphael/.julia/v0.6/IJulia/src/execute_request.jl:158\u001b[22m\u001b[22m\n",
      " [8] \u001b[1m(::Compat.#inner#18{Array{Any,1},IJulia.#execute_request,Tuple{ZMQ.Socket,IJulia.Msg}})\u001b[22m\u001b[22m\u001b[1m(\u001b[22m\u001b[22m\u001b[1m)\u001b[22m\u001b[22m at \u001b[1m/Users/Raphael/.julia/v0.6/Compat/src/Compat.jl:378\u001b[22m\u001b[22m\n",
      " [9] \u001b[1meventloop\u001b[22m\u001b[22m\u001b[1m(\u001b[22m\u001b[22m::ZMQ.Socket\u001b[1m)\u001b[22m\u001b[22m at \u001b[1m/Users/Raphael/.julia/v0.6/IJulia/src/eventloop.jl:8\u001b[22m\u001b[22m\n",
      " [10] \u001b[1m(::IJulia.##14#17)\u001b[22m\u001b[22m\u001b[1m(\u001b[22m\u001b[22m\u001b[1m)\u001b[22m\u001b[22m at \u001b[1m./task.jl:335\u001b[22m\u001b[22m\n",
      "while loading In[3], in expression starting on line 3\n"
     ]
    }
   ],
   "source": [
    "baseline_systeme = Dict()\n",
    "\n",
    "for x in collect(keys(dict))\n",
    "    for i in enumerate(collect(keys(dict[x])))\n",
    "        if i[1] == 1\n",
    "            baseline_systeme[x] = DataFrame(dict[x][i[2]])\n",
    "        else\n",
    "            baseline_systeme[x] = [baseline_systeme[x] ; DataFrame(dict[x][i[2]])]\n",
    "        end\n",
    "    end\n",
    "end"
   ]
  },
  {
   "cell_type": "code",
   "execution_count": 4,
   "metadata": {},
   "outputs": [
    {
     "data": {
      "text/plain": [
       "11-element Array{String,1}:\n",
       " \"periodes\"              \n",
       " \"produits\"              \n",
       " \"producteur\"            \n",
       " \"silos\"                 \n",
       " \"cellules\"              \n",
       " \"clients\"               \n",
       " \"previsions_apports\"    \n",
       " \"previsions_demandes\"   \n",
       " \"tarifs_tonne_transfert\"\n",
       " \"tarifs_tonne_livraison\"\n",
       " \"params\"                "
      ]
     },
     "execution_count": 4,
     "metadata": {},
     "output_type": "execute_result"
    }
   ],
   "source": [
    "collect(keys(dict))"
   ]
  },
  {
   "cell_type": "code",
   "execution_count": 5,
   "metadata": {},
   "outputs": [
    {
     "data": {
      "text/html": [
       "<table class=\"data-frame\"><thead><tr><th></th><th>id_silo</th><th>nom_silo</th><th>latitude</th><th>longitude</th></tr></thead><tbody><tr><th>1</th><td>1</td><td>silo-1</td><td>48.4977</td><td>2.9347</td></tr><tr><th>2</th><td>2</td><td>silo-2</td><td>48.7176</td><td>2.2121</td></tr><tr><th>3</th><td>3</td><td>silo-3</td><td>48.9919</td><td>2.6517</td></tr><tr><th>4</th><td>4</td><td>silo-4</td><td>48.38</td><td>2.1256</td></tr><tr><th>5</th><td>5</td><td>silo-5</td><td>48.7774</td><td>2.2672</td></tr></tbody></table>"
      ],
      "text/plain": [
       "5×4 DataFrames.DataFrame\n",
       "│ Row │ id_silo │ nom_silo │ latitude │ longitude │\n",
       "├─────┼─────────┼──────────┼──────────┼───────────┤\n",
       "│ 1   │ 1       │ silo-1   │ 48.4977  │ 2.9347    │\n",
       "│ 2   │ 2       │ silo-2   │ 48.7176  │ 2.2121    │\n",
       "│ 3   │ 3       │ silo-3   │ 48.9919  │ 2.6517    │\n",
       "│ 4   │ 4       │ silo-4   │ 48.38    │ 2.1256    │\n",
       "│ 5   │ 5       │ silo-5   │ 48.7774  │ 2.2672    │"
      ]
     },
     "execution_count": 5,
     "metadata": {},
     "output_type": "execute_result"
    }
   ],
   "source": [
    "baseline_systeme[\"silos\"]"
   ]
  },
  {
   "cell_type": "code",
   "execution_count": 6,
   "metadata": {},
   "outputs": [
    {
     "data": {
      "text/html": [
       "<table class=\"data-frame\"><thead><tr><th></th><th>id_produit</th><th>nom_produit</th><th>equipement_sechoir_requis</th><th>equipement_calibreur_requis</th><th>equipement_ns_requis</th><th>equipement_epurateur_requis</th><th>poids_specifique</th></tr></thead><tbody><tr><th>1</th><td>1</td><td>produit-1</td><td>false</td><td>true</td><td>true</td><td>false</td><td>0.7548</td></tr><tr><th>2</th><td>2</td><td>produit-2</td><td>false</td><td>false</td><td>true</td><td>false</td><td>0.6336</td></tr><tr><th>3</th><td>3</td><td>produit-3</td><td>true</td><td>true</td><td>true</td><td>false</td><td>0.7879</td></tr></tbody></table>"
      ],
      "text/plain": [
       "3×7 DataFrames.DataFrame. Omitted printing of 4 columns\n",
       "│ Row │ id_produit │ nom_produit │ equipement_sechoir_requis │\n",
       "├─────┼────────────┼─────────────┼───────────────────────────┤\n",
       "│ 1   │ 1          │ produit-1   │ false                     │\n",
       "│ 2   │ 2          │ produit-2   │ false                     │\n",
       "│ 3   │ 3          │ produit-3   │ true                      │"
      ]
     },
     "execution_count": 6,
     "metadata": {},
     "output_type": "execute_result"
    }
   ],
   "source": [
    "baseline_systeme[\"produits\"]"
   ]
  },
  {
   "cell_type": "code",
   "execution_count": 7,
   "metadata": {},
   "outputs": [
    {
     "data": {
      "text/html": [
       "<table class=\"data-frame\"><thead><tr><th></th><th>id_cellule</th><th>nom_cellule</th><th>type</th><th>capacite</th><th>equipement_sechoir</th><th>equipement_calibreur</th><th>equipement_ns</th><th>equipement_epurateur</th><th>stock_initial</th><th>id_produit_initial</th><th>id_silo</th></tr></thead><tbody><tr><th>1</th><td>1</td><td>cellule-1</td><td>collecte</td><td>2386.11</td><td>true</td><td>false</td><td>true</td><td>true</td><td>137.59</td><td>3</td><td>1</td></tr><tr><th>2</th><td>2</td><td>cellule-2</td><td>collecte</td><td>2013.39</td><td>true</td><td>true</td><td>true</td><td>false</td><td>155.335</td><td>3</td><td>2</td></tr><tr><th>3</th><td>3</td><td>cellule-3</td><td>collecte</td><td>2382.39</td><td>false</td><td>false</td><td>true</td><td>false</td><td>129.529</td><td>3</td><td>1</td></tr><tr><th>4</th><td>4</td><td>cellule-4</td><td>collecte</td><td>2869.69</td><td>true</td><td>false</td><td>true</td><td>false</td><td>410.923</td><td>1</td><td>2</td></tr><tr><th>5</th><td>5</td><td>cellule-5</td><td>collecte</td><td>2340.35</td><td>true</td><td>true</td><td>true</td><td>true</td><td>541.138</td><td>3</td><td>2</td></tr><tr><th>6</th><td>6</td><td>cellule-6</td><td>collecte</td><td>2482.08</td><td>false</td><td>true</td><td>false</td><td>false</td><td>20.691</td><td>3</td><td>1</td></tr><tr><th>7</th><td>7</td><td>cellule-7</td><td>collecte</td><td>2599.57</td><td>true</td><td>false</td><td>false</td><td>false</td><td>411.234</td><td>1</td><td>4</td></tr><tr><th>8</th><td>8</td><td>cellule-8</td><td>collecte</td><td>2493.54</td><td>false</td><td>false</td><td>true</td><td>false</td><td>658.534</td><td>2</td><td>5</td></tr><tr><th>9</th><td>9</td><td>cellule-9</td><td>collecte</td><td>2186.22</td><td>false</td><td>true</td><td>true</td><td>true</td><td>244.679</td><td>3</td><td>4</td></tr><tr><th>10</th><td>10</td><td>cellule-10</td><td>collecte</td><td>2827.37</td><td>true</td><td>true</td><td>true</td><td>false</td><td>40.6795</td><td>1</td><td>2</td></tr><tr><th>11</th><td>11</td><td>cellule-11</td><td>collecte</td><td>2668.47</td><td>false</td><td>true</td><td>false</td><td>true</td><td>110.978</td><td>2</td><td>4</td></tr><tr><th>12</th><td>12</td><td>cellule-12</td><td>collecte</td><td>2794.24</td><td>true</td><td>true</td><td>true</td><td>true</td><td>269.498</td><td>2</td><td>3</td></tr><tr><th>13</th><td>13</td><td>cellule-13</td><td>collecte</td><td>2107.94</td><td>false</td><td>true</td><td>true</td><td>true</td><td>97.9129</td><td>1</td><td>2</td></tr><tr><th>14</th><td>14</td><td>cellule-14</td><td>collecte</td><td>2723.71</td><td>false</td><td>true</td><td>true</td><td>false</td><td>108.045</td><td>2</td><td>5</td></tr><tr><th>15</th><td>15</td><td>cellule-15</td><td>collecte</td><td>2411.27</td><td>false</td><td>true</td><td>true</td><td>false</td><td>160.089</td><td>3</td><td>4</td></tr><tr><th>16</th><td>16</td><td>cellule-16</td><td>collecte</td><td>2820.95</td><td>false</td><td>true</td><td>true</td><td>false</td><td>191.582</td><td>3</td><td>2</td></tr><tr><th>17</th><td>17</td><td>cellule-17</td><td>collecte</td><td>2647.06</td><td>false</td><td>true</td><td>false</td><td>true</td><td>104.36</td><td>1</td><td>4</td></tr><tr><th>18</th><td>18</td><td>cellule-18</td><td>collecte</td><td>2782.93</td><td>true</td><td>false</td><td>false</td><td>true</td><td>819.487</td><td>2</td><td>2</td></tr><tr><th>19</th><td>19</td><td>cellule-19</td><td>collecte</td><td>2553.04</td><td>true</td><td>false</td><td>true</td><td>false</td><td>250.463</td><td>2</td><td>3</td></tr><tr><th>20</th><td>20</td><td>cellule-20</td><td>collecte</td><td>2529.72</td><td>true</td><td>true</td><td>false</td><td>false</td><td>384.724</td><td>3</td><td>5</td></tr><tr><th>21</th><td>21</td><td>cellule-21</td><td>collecte</td><td>2789.36</td><td>true</td><td>false</td><td>true</td><td>false</td><td>570.236</td><td>1</td><td>5</td></tr><tr><th>22</th><td>22</td><td>cellule-22</td><td>collecte</td><td>2023.33</td><td>false</td><td>false</td><td>false</td><td>false</td><td>60.1956</td><td>2</td><td>1</td></tr><tr><th>23</th><td>23</td><td>cellule-23</td><td>collecte</td><td>2477.23</td><td>false</td><td>true</td><td>true</td><td>false</td><td>88.3647</td><td>1</td><td>5</td></tr><tr><th>24</th><td>24</td><td>cellule-24</td><td>collecte</td><td>2732.31</td><td>true</td><td>false</td><td>false</td><td>false</td><td>41.3451</td><td>2</td><td>4</td></tr><tr><th>25</th><td>25</td><td>cellule-25</td><td>collecte</td><td>2692.73</td><td>true</td><td>true</td><td>true</td><td>true</td><td>750.669</td><td>3</td><td>3</td></tr><tr><th>26</th><td>26</td><td>cellule-26</td><td>collecte</td><td>2477.62</td><td>true</td><td>true</td><td>false</td><td>true</td><td>500.761</td><td>2</td><td>3</td></tr><tr><th>27</th><td>27</td><td>cellule-27</td><td>collecte</td><td>2861.21</td><td>false</td><td>true</td><td>false</td><td>true</td><td>81.4225</td><td>1</td><td>4</td></tr><tr><th>28</th><td>28</td><td>cellule-28</td><td>collecte</td><td>2438.1</td><td>false</td><td>false</td><td>true</td><td>false</td><td>360.299</td><td>3</td><td>5</td></tr><tr><th>29</th><td>29</td><td>cellule-29</td><td>collecte</td><td>2244.8</td><td>true</td><td>false</td><td>false</td><td>true</td><td>310.827</td><td>2</td><td>1</td></tr><tr><th>30</th><td>30</td><td>cellule-30</td><td>collecte</td><td>2070.68</td><td>true</td><td>true</td><td>false</td><td>false</td><td>233.086</td><td>3</td><td>1</td></tr><tr><th>&vellip;</th><td>&vellip;</td><td>&vellip;</td><td>&vellip;</td><td>&vellip;</td><td>&vellip;</td><td>&vellip;</td><td>&vellip;</td><td>&vellip;</td><td>&vellip;</td><td>&vellip;</td><td>&vellip;</td></tr></tbody></table>"
      ],
      "text/plain": [
       "50×11 DataFrames.DataFrame. Omitted printing of 6 columns\n",
       "│ Row │ id_cellule │ nom_cellule │ type     │ capacite │ equipement_sechoir │\n",
       "├─────┼────────────┼─────────────┼──────────┼──────────┼────────────────────┤\n",
       "│ 1   │ 1          │ cellule-1   │ collecte │ 2386.11  │ true               │\n",
       "│ 2   │ 2          │ cellule-2   │ collecte │ 2013.39  │ true               │\n",
       "│ 3   │ 3          │ cellule-3   │ collecte │ 2382.39  │ false              │\n",
       "│ 4   │ 4          │ cellule-4   │ collecte │ 2869.69  │ true               │\n",
       "│ 5   │ 5          │ cellule-5   │ collecte │ 2340.35  │ true               │\n",
       "│ 6   │ 6          │ cellule-6   │ collecte │ 2482.08  │ false              │\n",
       "│ 7   │ 7          │ cellule-7   │ collecte │ 2599.57  │ true               │\n",
       "│ 8   │ 8          │ cellule-8   │ collecte │ 2493.54  │ false              │\n",
       "│ 9   │ 9          │ cellule-9   │ collecte │ 2186.22  │ false              │\n",
       "│ 10  │ 10         │ cellule-10  │ collecte │ 2827.37  │ true               │\n",
       "│ 11  │ 11         │ cellule-11  │ collecte │ 2668.47  │ false              │\n",
       "⋮\n",
       "│ 39  │ 39         │ cellule-39  │ collecte │ 2332.39  │ false              │\n",
       "│ 40  │ 40         │ cellule-40  │ collecte │ 2650.87  │ false              │\n",
       "│ 41  │ 41         │ cellule-41  │ stockage │ 62900.8  │ false              │\n",
       "│ 42  │ 42         │ cellule-42  │ stockage │ 73927.3  │ true               │\n",
       "│ 43  │ 43         │ cellule-43  │ stockage │ 88315.5  │ false              │\n",
       "│ 44  │ 44         │ cellule-44  │ stockage │ 54212.3  │ false              │\n",
       "│ 45  │ 45         │ cellule-45  │ stockage │ 93766.1  │ true               │\n",
       "│ 46  │ 46         │ cellule-46  │ stockage │ 66953.6  │ true               │\n",
       "│ 47  │ 47         │ cellule-47  │ stockage │ 91972.0  │ false              │\n",
       "│ 48  │ 48         │ cellule-48  │ stockage │ 67334.2  │ false              │\n",
       "│ 49  │ 49         │ cellule-49  │ stockage │ 66688.7  │ false              │\n",
       "│ 50  │ 50         │ cellule-50  │ stockage │ 73817.6  │ true               │"
      ]
     },
     "execution_count": 7,
     "metadata": {},
     "output_type": "execute_result"
    }
   ],
   "source": [
    "baseline_systeme[\"cellules\"]"
   ]
  },
  {
   "cell_type": "code",
   "execution_count": 8,
   "metadata": {},
   "outputs": [
    {
     "data": {
      "text/html": [
       "<table class=\"data-frame\"><thead><tr><th></th><th>id_client</th><th>nom_client</th><th>latitude</th><th>longitude</th></tr></thead><tbody><tr><th>1</th><td>1</td><td>client-1</td><td>48.4609</td><td>2.8741</td></tr><tr><th>2</th><td>2</td><td>client-2</td><td>48.9551</td><td>2.4671</td></tr><tr><th>3</th><td>3</td><td>client-3</td><td>48.7125</td><td>2.0081</td></tr><tr><th>4</th><td>4</td><td>client-4</td><td>48.3971</td><td>2.7278</td></tr><tr><th>5</th><td>5</td><td>client-5</td><td>48.1177</td><td>2.7166</td></tr><tr><th>6</th><td>6</td><td>client-6</td><td>48.2401</td><td>2.1874</td></tr><tr><th>7</th><td>7</td><td>client-7</td><td>48.8636</td><td>2.6461</td></tr><tr><th>8</th><td>8</td><td>client-8</td><td>48.436</td><td>2.542</td></tr><tr><th>9</th><td>9</td><td>client-9</td><td>48.4979</td><td>2.3353</td></tr><tr><th>10</th><td>10</td><td>client-10</td><td>48.6919</td><td>2.6379</td></tr><tr><th>11</th><td>11</td><td>client-11</td><td>48.7603</td><td>2.8292</td></tr><tr><th>12</th><td>12</td><td>client-12</td><td>48.1554</td><td>2.709</td></tr><tr><th>13</th><td>13</td><td>client-13</td><td>48.8495</td><td>2.3486</td></tr><tr><th>14</th><td>14</td><td>client-14</td><td>48.9468</td><td>2.1283</td></tr><tr><th>15</th><td>15</td><td>client-15</td><td>48.5884</td><td>2.3881</td></tr><tr><th>16</th><td>16</td><td>client-16</td><td>48.5023</td><td>2.9282</td></tr><tr><th>17</th><td>17</td><td>client-17</td><td>48.1898</td><td>2.8044</td></tr><tr><th>18</th><td>18</td><td>client-18</td><td>48.0018</td><td>2.7587</td></tr><tr><th>19</th><td>19</td><td>client-19</td><td>48.8776</td><td>2.9572</td></tr><tr><th>20</th><td>20</td><td>client-20</td><td>48.1341</td><td>2.9939</td></tr><tr><th>21</th><td>21</td><td>client-21</td><td>48.0227</td><td>2.6064</td></tr><tr><th>22</th><td>22</td><td>client-22</td><td>48.9391</td><td>2.0294</td></tr><tr><th>23</th><td>23</td><td>client-23</td><td>48.2929</td><td>2.3364</td></tr><tr><th>24</th><td>24</td><td>client-24</td><td>48.1643</td><td>2.2777</td></tr><tr><th>25</th><td>25</td><td>client-25</td><td>48.3991</td><td>2.1172</td></tr><tr><th>26</th><td>26</td><td>client-26</td><td>48.4596</td><td>2.0432</td></tr><tr><th>27</th><td>27</td><td>client-27</td><td>48.434</td><td>2.3703</td></tr><tr><th>28</th><td>28</td><td>client-28</td><td>48.517</td><td>2.3369</td></tr><tr><th>29</th><td>29</td><td>client-29</td><td>48.8462</td><td>2.1737</td></tr><tr><th>30</th><td>30</td><td>client-30</td><td>48.0552</td><td>2.6218</td></tr><tr><th>&vellip;</th><td>&vellip;</td><td>&vellip;</td><td>&vellip;</td><td>&vellip;</td></tr></tbody></table>"
      ],
      "text/plain": [
       "40×4 DataFrames.DataFrame\n",
       "│ Row │ id_client │ nom_client │ latitude │ longitude │\n",
       "├─────┼───────────┼────────────┼──────────┼───────────┤\n",
       "│ 1   │ 1         │ client-1   │ 48.4609  │ 2.8741    │\n",
       "│ 2   │ 2         │ client-2   │ 48.9551  │ 2.4671    │\n",
       "│ 3   │ 3         │ client-3   │ 48.7125  │ 2.0081    │\n",
       "│ 4   │ 4         │ client-4   │ 48.3971  │ 2.7278    │\n",
       "│ 5   │ 5         │ client-5   │ 48.1177  │ 2.7166    │\n",
       "│ 6   │ 6         │ client-6   │ 48.2401  │ 2.1874    │\n",
       "│ 7   │ 7         │ client-7   │ 48.8636  │ 2.6461    │\n",
       "│ 8   │ 8         │ client-8   │ 48.436   │ 2.542     │\n",
       "│ 9   │ 9         │ client-9   │ 48.4979  │ 2.3353    │\n",
       "│ 10  │ 10        │ client-10  │ 48.6919  │ 2.6379    │\n",
       "│ 11  │ 11        │ client-11  │ 48.7603  │ 2.8292    │\n",
       "⋮\n",
       "│ 29  │ 29        │ client-29  │ 48.8462  │ 2.1737    │\n",
       "│ 30  │ 30        │ client-30  │ 48.0552  │ 2.6218    │\n",
       "│ 31  │ 31        │ client-31  │ 48.5542  │ 2.3978    │\n",
       "│ 32  │ 32        │ client-32  │ 48.6883  │ 2.9557    │\n",
       "│ 33  │ 33        │ client-33  │ 48.6581  │ 2.6533    │\n",
       "│ 34  │ 34        │ client-34  │ 48.6633  │ 2.3287    │\n",
       "│ 35  │ 35        │ client-35  │ 48.4722  │ 2.1971    │\n",
       "│ 36  │ 36        │ client-36  │ 48.9695  │ 2.1153    │\n",
       "│ 37  │ 37        │ client-37  │ 48.4022  │ 2.996     │\n",
       "│ 38  │ 38        │ client-38  │ 48.8496  │ 2.3793    │\n",
       "│ 39  │ 39        │ client-39  │ 48.7566  │ 2.562     │\n",
       "│ 40  │ 40        │ client-40  │ 48.5326  │ 2.7327    │"
      ]
     },
     "execution_count": 8,
     "metadata": {},
     "output_type": "execute_result"
    }
   ],
   "source": [
    "baseline_systeme[\"clients\"]"
   ]
  },
  {
   "cell_type": "code",
   "execution_count": null,
   "metadata": {},
   "outputs": [],
   "source": []
  }
 ],
 "metadata": {
  "kernelspec": {
   "display_name": "Julia 0.6.3",
   "language": "julia",
   "name": "julia-0.6"
  },
  "language_info": {
   "file_extension": ".jl",
   "mimetype": "application/julia",
   "name": "julia",
   "version": "0.6.3"
  }
 },
 "nbformat": 4,
 "nbformat_minor": 2
}
